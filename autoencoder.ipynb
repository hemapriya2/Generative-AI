{
  "nbformat": 4,
  "nbformat_minor": 0,
  "metadata": {
    "colab": {
      "provenance": []
    },
    "kernelspec": {
      "name": "python3",
      "display_name": "Python 3"
    },
    "language_info": {
      "name": "python"
    }
  },
  "cells": [
    {
      "cell_type": "code",
      "execution_count": null,
      "metadata": {
        "id": "zNFXeCRPXx9j"
      },
      "outputs": [],
      "source": [
        "# import modules\n",
        "import numpy as np\n",
        "import matplotlib.pyplot as plt\n",
        "from keras import Sequential\n",
        "from keras.layers import Dense, Conv2D, MaxPooling2D, UpSampling2D\n",
        "from keras.datasets import mnist\n"
      ]
    },
    {
      "cell_type": "code",
      "source": [
        "(x_train, _), (x_test, _) = mnist.load_data()"
      ],
      "metadata": {
        "colab": {
          "base_uri": "https://localhost:8080/"
        },
        "id": "7sV78QKg5DY2",
        "outputId": "07ad51ae-28df-4022-a0e6-14462317e666"
      },
      "execution_count": null,
      "outputs": [
        {
          "output_type": "stream",
          "name": "stdout",
          "text": [
            "Downloading data from https://storage.googleapis.com/tensorflow/tf-keras-datasets/mnist.npz\n",
            "11490434/11490434 [==============================] - 0s 0us/step\n"
          ]
        }
      ]
    },
    {
      "cell_type": "code",
      "source": [
        "# normalize the image data\n",
        "x_train = x_train.astype('float32') / 255\n",
        "x_test = x_test.astype('float32') / 255"
      ],
      "metadata": {
        "id": "O4DjkH9T5E6O"
      },
      "execution_count": null,
      "outputs": []
    },
    {
      "cell_type": "code",
      "source": [
        "# reshape in the input data for the model\n",
        "x_train = x_train.reshape(len(x_train), 28, 28, 1)\n",
        "x_test = x_test.reshape(len(x_test), 28, 28, 1)\n",
        "x_test.shape"
      ],
      "metadata": {
        "colab": {
          "base_uri": "https://localhost:8080/"
        },
        "id": "p3M4zObp5SA9",
        "outputId": "f5b35853-a75f-49ef-ea98-c07f48789d32"
      },
      "execution_count": null,
      "outputs": [
        {
          "output_type": "execute_result",
          "data": {
            "text/plain": [
              "(10000, 28, 28, 1)"
            ]
          },
          "metadata": {},
          "execution_count": 4
        }
      ]
    },
    {
      "cell_type": "code",
      "source": [
        "#randomly select input image\n",
        "index = np.random.randint(len(x_test))\n",
        "#plot the image\n",
        "plt.imshow(x_test[index].reshape(28, 28))\n",
        "plt.show()"
      ],
      "metadata": {
        "colab": {
          "base_uri": "https://localhost:8080/",
          "height": 430
        },
        "id": "9I0GLyEY5WJG",
        "outputId": "261022f4-2854-4d36-976c-a5ebe7c4a52e"
      },
      "execution_count": null,
      "outputs": [
        {
          "output_type": "display_data",
          "data": {
            "text/plain": [
              "<Figure size 640x480 with 1 Axes>"
            ],
            "image/png": "[encoded data removed]"
          },
          "metadata": {}
        }
      ]
    },
    {
      "cell_type": "code",
      "source": [
        "#randomly select input image\n",
        "index = np.random.randint(len(x_test))\n",
        "# plot the image\n",
        "plt.imshow(x_test[index].reshape(28, 28))\n",
        "plt.gray()"
      ],
      "metadata": {
        "colab": {
          "base_uri": "https://localhost:8080/",
          "height": 430
        },
        "id": "ZRrRdTeg5ZRE",
        "outputId": "3f9b9378-ac07-4ce4-8dec-326cf7ba2ece"
      },
      "execution_count": null,
      "outputs": [
        {
          "output_type": "display_data",
          "data": {
            "text/plain": [
              "<Figure size 640x480 with 1 Axes>"
            ],
            "image/png": "[encoded data removed]"
          },
          "metadata": {}
        }
      ]
    },
    {
      "cell_type": "code",
      "source": [
        "model = Sequential([\n",
        "                    # encoder network\n",
        "                    Conv2D(32, 3, activation='relu', padding='same', input_shape=(28, 28, 1)),\n",
        "                    MaxPooling2D(2, padding='same'),\n",
        "                    Conv2D(16, 3, activation='relu', padding='same'),\n",
        "                    MaxPooling2D(2, padding='same'),\n",
        "                    # decoder network\n",
        "                    Conv2D(16, 3, activation='relu', padding='same'),\n",
        "                    UpSampling2D(2),\n",
        "                    Conv2D(32, 3, activation='relu', padding='same'),\n",
        "                    UpSampling2D(2),\n",
        "                    # output layer\n",
        "                    Conv2D(1, 3, activation='sigmoid', padding='same')\n",
        "\n",
        "])\n",
        "\n",
        "model.compile(optimizer='adam', loss='binary_crossentropy')\n",
        "model.summary()"
      ],
      "metadata": {
        "colab": {
          "base_uri": "https://localhost:8080/"
        },
        "id": "18ZC2-Zt5c13",
        "outputId": "a1c32696-b9e8-45f6-bb22-4a477ab5a5e6"
      },
      "execution_count": null,
      "outputs": [
        {
          "output_type": "stream",
          "name": "stdout",
          "text": [
            "Model: \"sequential\"\n",
            "_________________________________________________________________\n",
            " Layer (type)                Output Shape              Param #   \n",
            "=================================================================\n",
            " conv2d (Conv2D)             (None, 28, 28, 32)        320       \n",
            "                                                                 \n",
            " max_pooling2d (MaxPooling2  (None, 14, 14, 32)        0         \n",
            " D)                                                              \n",
            "                                                                 \n",
            " conv2d_1 (Conv2D)           (None, 14, 14, 16)        4624      \n",
            "                                                                 \n",
            " max_pooling2d_1 (MaxPoolin  (None, 7, 7, 16)          0         \n",
            " g2D)                                                            \n",
            "                                                                 \n",
            " conv2d_2 (Conv2D)           (None, 7, 7, 16)          2320      \n",
            "                                                                 \n",
            " up_sampling2d (UpSampling2  (None, 14, 14, 16)        0         \n",
            " D)                                                              \n",
            "                                                                 \n",
            " conv2d_3 (Conv2D)           (None, 14, 14, 32)        4640      \n",
            "                                                                 \n",
            " up_sampling2d_1 (UpSamplin  (None, 28, 28, 32)        0         \n",
            " g2D)                                                            \n",
            "                                                                 \n",
            " conv2d_4 (Conv2D)           (None, 28, 28, 1)         289       \n",
            "                                                                 \n",
            "=================================================================\n",
            "Total params: 12193 (47.63 KB)\n",
            "Trainable params: 12193 (47.63 KB)\n",
            "Non-trainable params: 0 (0.00 Byte)\n",
            "_________________________________________________________________\n"
          ]
        }
      ]
    },
    {
      "cell_type": "code",
      "source": [
        "# train the  model\n",
        "model.fit(x_train, x_train, epochs=20, batch_size=256, validation_data=(x_test, x_test))"
      ],
      "metadata": {
        "colab": {
          "base_uri": "https://localhost:8080/"
        },
        "id": "ReliyvQG5iIn",
        "outputId": "b5703a7b-ae94-456f-c0b4-e4eed9273857"
      },
      "execution_count": null,
      "outputs": [
        {
          "output_type": "stream",
          "name": "stdout",
          "text": [
            "Epoch 1/20\n",
            "235/235 [==============================] - 124s 522ms/step - loss: 0.1754 - val_loss: 0.0881\n",
            "Epoch 2/20\n",
            "235/235 [==============================] - 133s 567ms/step - loss: 0.0837 - val_loss: 0.0793\n",
            "Epoch 3/20\n",
            "235/235 [==============================] - 127s 541ms/step - loss: 0.0784 - val_loss: 0.0761\n",
            "Epoch 4/20\n",
            "235/235 [==============================] - 171s 729ms/step - loss: 0.0760 - val_loss: 0.0743\n",
            "Epoch 5/20\n",
            "235/235 [==============================] - 166s 707ms/step - loss: 0.0745 - val_loss: 0.0731\n",
            "Epoch 6/20\n",
            "235/235 [==============================] - 129s 548ms/step - loss: 0.0734 - val_loss: 0.0723\n",
            "Epoch 7/20\n",
            "235/235 [==============================] - 109s 461ms/step - loss: 0.0726 - val_loss: 0.0715\n",
            "Epoch 8/20\n",
            "235/235 [==============================] - 103s 436ms/step - loss: 0.0719 - val_loss: 0.0710\n",
            "Epoch 9/20\n",
            "235/235 [==============================] - 118s 502ms/step - loss: 0.0714 - val_loss: 0.0706\n",
            "Epoch 10/20\n",
            "235/235 [==============================] - 113s 483ms/step - loss: 0.0709 - val_loss: 0.0701\n",
            "Epoch 11/20\n",
            "235/235 [==============================] - 107s 455ms/step - loss: 0.0705 - val_loss: 0.0697\n",
            "Epoch 12/20\n",
            "235/235 [==============================] - 107s 456ms/step - loss: 0.0702 - val_loss: 0.0696\n",
            "Epoch 13/20\n",
            "235/235 [==============================] - 109s 463ms/step - loss: 0.0699 - val_loss: 0.0691\n",
            "Epoch 14/20\n",
            "235/235 [==============================] - 106s 451ms/step - loss: 0.0697 - val_loss: 0.0689\n",
            "Epoch 15/20\n",
            "235/235 [==============================] - 107s 458ms/step - loss: 0.0694 - val_loss: 0.0688\n",
            "Epoch 16/20\n",
            "235/235 [==============================] - 109s 466ms/step - loss: 0.0692 - val_loss: 0.0685\n",
            "Epoch 17/20\n",
            "235/235 [==============================] - 112s 474ms/step - loss: 0.0690 - val_loss: 0.0685\n",
            "Epoch 18/20\n",
            "235/235 [==============================] - 114s 487ms/step - loss: 0.0689 - val_loss: 0.0682\n",
            "Epoch 19/20\n",
            "235/235 [==============================] - 112s 476ms/step - loss: 0.0687 - val_loss: 0.0681\n",
            "Epoch 20/20\n",
            "235/235 [==============================] - 108s 459ms/step - loss: 0.0685 - val_loss: 0.0682\n"
          ]
        },
        {
          "output_type": "execute_result",
          "data": {
            "text/plain": [
              "<keras.src.callbacks.History at 0x7c77a47597e0>"
            ]
          },
          "metadata": {},
          "execution_count": 9
        }
      ]
    },
    {
      "cell_type": "code",
      "source": [
        "#predict the results from model (get compressed image)\n",
        "pred = model.predict(x_test)"
      ],
      "metadata": {
        "colab": {
          "base_uri": "https://localhost:8080/"
        },
        "id": "HLISqXRi5luh",
        "outputId": "aa25312c-c387-4445-8fe0-93f4877b4f1d"
      },
      "execution_count": null,
      "outputs": [
        {
          "output_type": "stream",
          "name": "stdout",
          "text": [
            "313/313 [==============================] - 5s 15ms/step\n"
          ]
        }
      ]
    },
    {
      "cell_type": "code",
      "source": [
        "#randomly select input image\n",
        "index = np.random.randint(len(x_test))\n",
        "# plot the image\n",
        "plt.imshow(x_test[index].reshape(28, 28))\n",
        "plt.gray()"
      ],
      "metadata": {
        "colab": {
          "base_uri": "https://localhost:8080/",
          "height": 430
        },
        "id": "zpT097JM50qb",
        "outputId": "26c6a8b4-7e74-436a-9f5f-055ba73ff4ac"
      },
      "execution_count": null,
      "outputs": [
        {
          "output_type": "display_data",
          "data": {
            "text/plain": [
              "<Figure size 640x480 with 1 Axes>"
            ],
            "image/png": "[encoded data removed]"
          },
          "metadata": {}
        }
      ]
    },
    {
      "cell_type": "code",
      "source": [
        "# visualize compressed image\n",
        "plt.imshow(pred[index].reshape(28, 28))\n",
        "plt.gray()"
      ],
      "metadata": {
        "colab": {
          "base_uri": "https://localhost:8080/",
          "height": 430
        },
        "id": "300JkGj67YOP",
        "outputId": "0b99f4ab-2799-403f-e2a9-88fb23a4ef0d"
      },
      "execution_count": null,
      "outputs": [
        {
          "output_type": "display_data",
          "data": {
            "text/plain": [
              "<Figure size 640x480 with 1 Axes>"
            ],
            "image/png": "[encoded data removed]"
          },
          "metadata": {}
        }
      ]
    },
    {
      "cell_type": "code",
      "source": [
        "index = np.random.randint(len(x_test))\n",
        "plt.figure(figsize=(10, 4))\n",
        "ax = plt.subplot(1, 2, 1)\n",
        "plt.imshow(x_test[index].reshape(28, 28))\n",
        "plt.gray()\n",
        "ax.get_xaxis().set_visible(False)\n",
        "ax.get_yaxis().set_visible(False)\n",
        "# display compressed image\n",
        "ax = plt.subplot(1, 2, 2)\n",
        "plt.imshow(x_test[index].reshape(28, 28))\n",
        "plt.gray()\n",
        "ax.get_xaxis().set_visible(False)\n",
        "ax.get_yaxis().set_visible(False)\n",
        "plt.show()\n"
      ],
      "metadata": {
        "colab": {
          "base_uri": "https://localhost:8080/",
          "height": 345
        },
        "id": "-bUqZMcH53vt",
        "outputId": "4052f64f-ba86-4b43-81ca-ab88c7c956db"
      },
      "execution_count": null,
      "outputs": [
        {
          "output_type": "display_data",
          "data": {
            "text/plain": [
              "<Figure size 1000x400 with 2 Axes>"
            ],
            "image/png": "[encoded data removed]"
          },
          "metadata": {}
        }
      ]
    }
  ]
}